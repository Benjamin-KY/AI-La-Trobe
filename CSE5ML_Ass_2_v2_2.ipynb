{
  "nbformat": 4,
  "nbformat_minor": 0,
  "metadata": {
    "colab": {
      "provenance": []
    },
    "kernelspec": {
      "name": "python3",
      "display_name": "Python 3"
    },
    "language_info": {
      "name": "python"
    }
  },
  "cells": [
    {
      "cell_type": "code",
      "execution_count": null,
      "metadata": {
        "colab": {
          "base_uri": "https://localhost:8080/"
        },
        "id": "XLpDZ6EG3P4I",
        "outputId": "ddc05e9e-80ad-4a4d-d968-d97664262bb4"
      },
      "outputs": [
        {
          "output_type": "stream",
          "name": "stdout",
          "text": [
            "Epoch 1/5\n",
            "1875/1875 [==============================] - 8s 4ms/step - loss: 0.2550 - accuracy: 0.9277\n",
            "Epoch 2/5\n",
            "1875/1875 [==============================] - 6s 3ms/step - loss: 0.1139 - accuracy: 0.9660\n",
            "Epoch 3/5\n",
            "1875/1875 [==============================] - 7s 4ms/step - loss: 0.0791 - accuracy: 0.9760\n",
            "Epoch 4/5\n",
            "1875/1875 [==============================] - 6s 3ms/step - loss: 0.0594 - accuracy: 0.9824\n",
            "Epoch 5/5\n",
            " 620/1875 [========>.....................] - ETA: 4s - loss: 0.0446 - accuracy: 0.9865"
          ]
        }
      ],
      "source": [
        "## Name: Ben Kereopa-Yorke\n",
        "## Email: 21340711@students.latrobe.edu.au\n",
        "## Student Number: 21340711\n",
        "## Date: 17.9.2023\n",
        "\n",
        "## CSE5ML\n",
        "## Machine Learning\n",
        "## Assessment 2: Report\n",
        "\n",
        "import tensorflow as tf\n",
        "from tensorflow.keras.datasets import mnist\n",
        "from tensorflow.keras.models import Sequential\n",
        "from tensorflow.keras.layers import Dense, Flatten, Conv2D, MaxPooling2D\n",
        "from tensorflow.keras.optimizers import Adam, SGD\n",
        "import numpy as np\n",
        "\n",
        "# Here I load and preprocess the data\n",
        "(x_train, y_train), (x_test, y_test) = mnist.load_data()\n",
        "x_train, x_test = x_train / 255.0, x_test / 255.0\n",
        "\n",
        "# Then its time to reshape the data for Conv2D layer\n",
        "x_train = x_train[..., np.newaxis]\n",
        "x_test = x_test[..., np.newaxis]\n",
        "\n",
        "# I have to convert labels to one-hot encoded\n",
        "y_train = tf.keras.utils.to_categorical(y_train, 10)\n",
        "y_test = tf.keras.utils.to_categorical(y_test, 10)\n",
        "\n",
        "# Task 1: Neural Network without Convolutional Layers\n",
        "# My naming convention is Model number, and if improved I state \"Improved\".\n",
        "model1 = Sequential([\n",
        "    Flatten(input_shape=(28, 28, 1)),\n",
        "    Dense(128, activation='relu'),\n",
        "    Dense(10, activation='softmax')\n",
        "])\n",
        "\n",
        "model1.compile(optimizer='adam', loss='categorical_crossentropy', metrics=['accuracy'])\n",
        "model1.fit(x_train, y_train, epochs=5, batch_size=32)\n",
        "test_loss, test_acc = model1.evaluate(x_test, y_test, verbose=0)\n",
        "print(f\"\\nModel 1 Performance: Test Accuracy = {test_acc:.4f}\")\n",
        "\n",
        "model1_improved = Sequential([\n",
        "    Flatten(input_shape=(28, 28, 1)),\n",
        "    Dense(256, activation='relu'),\n",
        "    Dense(128, activation='relu'),\n",
        "    Dense(10, activation='softmax')\n",
        "])\n",
        "\n",
        "model1_improved.compile(optimizer='adam', loss='categorical_crossentropy', metrics=['accuracy'])\n",
        "model1_improved.fit(x_train, y_train, epochs=5, batch_size=32)\n",
        "test_loss_improved, test_acc_improved = model1_improved.evaluate(x_test, y_test, verbose=0)\n",
        "print(f\"\\nModel 1 Improved Performance: Test Accuracy = {test_acc_improved:.4f}\")"
      ]
    },
    {
      "cell_type": "code",
      "source": [
        "# Task 2: Neural Network with Convolutional Layers\n",
        "model2 = Sequential([\n",
        "    Conv2D(32, (3, 3), activation='relu', input_shape=(28, 28, 1)),\n",
        "    MaxPooling2D((2, 2)),\n",
        "    Flatten(),\n",
        "    Dense(128, activation='relu'),\n",
        "    Dense(10, activation='softmax')\n",
        "])\n",
        "\n",
        "model2.compile(optimizer='adam', loss='categorical_crossentropy', metrics=['accuracy'])\n",
        "model2.fit(x_train, y_train, epochs=5, batch_size=32)\n",
        "test_loss2, test_acc2 = model2.evaluate(x_test, y_test, verbose=0)\n",
        "print(f\"\\nModel 2 Performance: Test Accuracy = {test_acc2:.4f}\")\n",
        "\n",
        "model2_improved = Sequential([\n",
        "    Conv2D(64, (3, 3), activation='relu', input_shape=(28, 28, 1)),\n",
        "    MaxPooling2D((2, 2)),\n",
        "    Conv2D(64, (3, 3), activation='relu'),\n",
        "    MaxPooling2D((2, 2)),\n",
        "    Flatten(),\n",
        "    Dense(256, activation='relu'),\n",
        "    Dense(10, activation='softmax')\n",
        "])\n",
        "\n",
        "model2_improved.compile(optimizer='adam', loss='categorical_crossentropy', metrics=['accuracy'])\n",
        "model2_improved.fit(x_train, y_train, epochs=5, batch_size=32)\n",
        "test_loss2_improved, test_acc2_improved = model2_improved.evaluate(x_test, y_test, verbose=0)\n",
        "print(f\"\\nModel 2 Improved Performance: Test Accuracy = {test_acc2_improved:.4f}\")"
      ],
      "metadata": {
        "id": "ZfUKnhxg3VeL"
      },
      "execution_count": null,
      "outputs": []
    },
    {
      "cell_type": "code",
      "source": [
        "model3 = model2_improved\n",
        "model3.compile(optimizer=SGD(learning_rate=0.01), loss='categorical_crossentropy', metrics=['accuracy'])\n",
        "model3.fit(x_train, y_train, epochs=5, batch_size=32)\n",
        "test_loss3, test_acc3 = model3.evaluate(x_test, y_test, verbose=0)\n",
        "print(f\"\\nModel 3 Performance (Changed Optimiser to SGD with learning rate 0.01): Test Accuracy = {test_acc3:.4f}\")"
      ],
      "metadata": {
        "colab": {
          "base_uri": "https://localhost:8080/"
        },
        "id": "HIQHn1MB3X9G",
        "outputId": "3693afd9-822e-4c25-b975-82c1e95d439c"
      },
      "execution_count": 6,
      "outputs": [
        {
          "output_type": "stream",
          "name": "stdout",
          "text": [
            "Epoch 1/5\n",
            "1875/1875 [==============================] - 84s 45ms/step - loss: 0.0058 - accuracy: 0.9982\n",
            "Epoch 2/5\n",
            "1875/1875 [==============================] - 82s 44ms/step - loss: 0.0039 - accuracy: 0.9989\n",
            "Epoch 3/5\n",
            "1875/1875 [==============================] - 90s 48ms/step - loss: 0.0032 - accuracy: 0.9992\n",
            "Epoch 4/5\n",
            "1875/1875 [==============================] - 89s 48ms/step - loss: 0.0029 - accuracy: 0.9993\n",
            "Epoch 5/5\n",
            "1875/1875 [==============================] - 86s 46ms/step - loss: 0.0026 - accuracy: 0.9993\n",
            "\n",
            "Model 3 Performance (Changed Optimizer to SGD with learning rate 0.01): Test Accuracy = 0.9921\n"
          ]
        }
      ]
    }
  ]
}